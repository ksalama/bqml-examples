{
 "cells": [
  {
   "cell_type": "code",
   "execution_count": null,
   "metadata": {},
   "outputs": [],
   "source": [
    "!pip install -U google-cloud\n",
    "!pip install -U google-cloud-bigquery"
   ]
  },
  {
   "cell_type": "code",
   "execution_count": 506,
   "metadata": {
    "collapsed": true
   },
   "outputs": [],
   "source": [
    "import sys\n",
    "import pandas as pd\n",
    "import datalab.bigquery as bq\n",
    "import matplotlib.pyplot as plt\n",
    "\n",
    "%matplotlib inline"
   ]
  },
  {
   "cell_type": "code",
   "execution_count": 505,
   "metadata": {
    "collapsed": true
   },
   "outputs": [],
   "source": [
    "PROJECT = 'ksalama-gcp-playground'"
   ]
  },
  {
   "cell_type": "markdown",
   "metadata": {},
   "source": [
    "# New York Citibike Dataset"
   ]
  },
  {
   "cell_type": "markdown",
   "metadata": {},
   "source": [
    "### Weekly Trips"
   ]
  },
  {
   "cell_type": "code",
   "execution_count": 349,
   "metadata": {
    "collapsed": true
   },
   "outputs": [],
   "source": [
    "%bq query --name data_week\n",
    "\n",
    "WITH trips_data\n",
    "AS\n",
    "(\n",
    "  SELECT\n",
    "    CONCAT(CAST(EXTRACT(YEAR FROM starttime) AS STRING),'-',LPAD(CAST(EXTRACT(WEEK FROM starttime) AS STRING),2,'0')) trip_week,\n",
    "    COUNT(*)/10000 trip_count\n",
    "  FROM\n",
    "    `bigquery-public-data.new_york_citibike.citibike_trips`\n",
    "  WHERE \n",
    "    starttime IS NOT NULL\n",
    "  AND\n",
    "    starttime < '2016-07-01'\n",
    "  AND\n",
    "    CONCAT(CAST(EXTRACT(YEAR FROM starttime) AS STRING),'-',LPAD(CAST(EXTRACT(WEEK FROM starttime) AS STRING),2,'0')) >= '2013-27'\n",
    "  AND\n",
    "    EXTRACT(WEEK FROM starttime) != 0\n",
    "  GROUP BY\n",
    "    trip_week\n",
    "  ORDER BY \n",
    "    trip_week ASC\n",
    ")\n",
    "\n",
    "SELECT\n",
    "  trip_week,\n",
    "  CASE WHEN trip_week <= '2014-06' THEN trip_count * 0.70 ELSE trip_count END trip_count\n",
    "FROM\n",
    "  trips_data  \n",
    ";"
   ]
  },
  {
   "cell_type": "code",
   "execution_count": 350,
   "metadata": {},
   "outputs": [
    {
     "data": {
      "text/html": [
       "\n",
       "    <div class=\"bqgc-container\">\n",
       "      \n",
       "      <div class=\"bqgc \" id=\"4_153748585759\">\n",
       "      </div>\n",
       "    </div>\n",
       "    <script src=\"/static/components/requirejs/require.js\"></script>\n",
       "    <script>\n",
       "\n",
       "      require.config({\n",
       "        paths: {\n",
       "          base: '/static/base',\n",
       "          d3: '//cdnjs.cloudflare.com/ajax/libs/d3/3.4.13/d3',\n",
       "          plotly: 'https://cdn.plot.ly/plotly-1.5.1.min.js?noext',\n",
       "          jquery: '//ajax.googleapis.com/ajax/libs/jquery/2.0.0/jquery.min'\n",
       "        },\n",
       "        map: {\n",
       "          '*': {\n",
       "            datalab: 'nbextensions/gcpdatalab'\n",
       "          }\n",
       "        },\n",
       "        shim: {\n",
       "          plotly: {\n",
       "            deps: ['d3', 'jquery'],\n",
       "            exports: 'plotly'\n",
       "          }\n",
       "        }\n",
       "      });\n",
       "\n",
       "      require(['datalab/charting',\n",
       "               'datalab/element!4_153748585759',\n",
       "               'base/js/events',\n",
       "               'datalab/style!/nbextensions/gcpdatalab/charting.css'\n",
       "              ],\n",
       "        function(charts, dom, events) {\n",
       "          charts.render(\n",
       "              'gcharts',\n",
       "              dom,\n",
       "              events,\n",
       "              'line',\n",
       "              [],\n",
       "              {\"rows\": [{\"c\": [{\"v\": \"2013-27\"}, {\"v\": 11.48049}]}, {\"c\": [{\"v\": \"2013-28\"}, {\"v\": 13.89402}]}, {\"c\": [{\"v\": \"2013-29\"}, {\"v\": 15.540769999999998}]}, {\"c\": [{\"v\": \"2013-30\"}, {\"v\": 15.29416}]}, {\"c\": [{\"v\": \"2013-31\"}, {\"v\": 16.70977}]}, {\"c\": [{\"v\": \"2013-32\"}, {\"v\": 16.503619999999998}]}, {\"c\": [{\"v\": \"2013-33\"}, {\"v\": 15.8179}]}, {\"c\": [{\"v\": \"2013-34\"}, {\"v\": 15.122869999999999}]}, {\"c\": [{\"v\": \"2013-35\"}, {\"v\": 15.538039999999999}]}, {\"c\": [{\"v\": \"2013-36\"}, {\"v\": 16.85012}]}, {\"c\": [{\"v\": \"2013-37\"}, {\"v\": 17.48943}]}, {\"c\": [{\"v\": \"2013-38\"}, {\"v\": 17.64574}]}, {\"c\": [{\"v\": \"2013-39\"}, {\"v\": 18.657099999999996}]}, {\"c\": [{\"v\": \"2013-40\"}, {\"v\": 15.673629999999998}]}, {\"c\": [{\"v\": \"2013-41\"}, {\"v\": 16.85971}]}, {\"c\": [{\"v\": \"2013-42\"}, {\"v\": 15.4539}]}, {\"c\": [{\"v\": \"2013-43\"}, {\"v\": 15.175089999999999}]}, {\"c\": [{\"v\": \"2013-44\"}, {\"v\": 13.32786}]}, {\"c\": [{\"v\": \"2013-45\"}, {\"v\": 12.029499999999999}]}, {\"c\": [{\"v\": \"2013-46\"}, {\"v\": 12.28164}]}, {\"c\": [{\"v\": \"2013-47\"}, {\"v\": 5.367389999999999}]}, {\"c\": [{\"v\": \"2013-48\"}, {\"v\": 10.276069999999999}]}, {\"c\": [{\"v\": \"2013-49\"}, {\"v\": 6.67331}]}, {\"c\": [{\"v\": \"2013-50\"}, {\"v\": 7.320809999999999}]}, {\"c\": [{\"v\": \"2013-51\"}, {\"v\": 4.886629999999999}]}, {\"c\": [{\"v\": \"2013-52\"}, {\"v\": 1.9208}]}, {\"c\": [{\"v\": \"2014-01\"}, {\"v\": 4.10179}]}, {\"c\": [{\"v\": \"2014-02\"}, {\"v\": 8.01283}]}, {\"c\": [{\"v\": \"2014-03\"}, {\"v\": 3.09925}]}, {\"c\": [{\"v\": \"2014-04\"}, {\"v\": 5.44145}]}, {\"c\": [{\"v\": \"2014-05\"}, {\"v\": 3.4683599999999997}]}, {\"c\": [{\"v\": \"2014-06\"}, {\"v\": 2.4857699999999996}]}, {\"c\": [{\"v\": \"2014-07\"}, {\"v\": 5.5019}]}, {\"c\": [{\"v\": \"2014-08\"}, {\"v\": 8.1089}]}, {\"c\": [{\"v\": \"2014-09\"}, {\"v\": 8.2529}]}, {\"c\": [{\"v\": \"2014-10\"}, {\"v\": 11.4281}]}, {\"c\": [{\"v\": \"2014-11\"}, {\"v\": 11.2667}]}, {\"c\": [{\"v\": \"2014-12\"}, {\"v\": 9.5446}]}, {\"c\": [{\"v\": \"2014-13\"}, {\"v\": 12.8957}]}, {\"c\": [{\"v\": \"2014-14\"}, {\"v\": 16.5611}]}, {\"c\": [{\"v\": \"2014-15\"}, {\"v\": 15.3729}]}, {\"c\": [{\"v\": \"2014-16\"}, {\"v\": 17.5721}]}, {\"c\": [{\"v\": \"2014-17\"}, {\"v\": 15.6394}]}, {\"c\": [{\"v\": \"2014-18\"}, {\"v\": 17.8772}]}, {\"c\": [{\"v\": \"2014-19\"}, {\"v\": 19.6614}]}, {\"c\": [{\"v\": \"2014-20\"}, {\"v\": 19.4932}]}, {\"c\": [{\"v\": \"2014-21\"}, {\"v\": 21.1159}]}, {\"c\": [{\"v\": \"2014-22\"}, {\"v\": 22.4963}]}, {\"c\": [{\"v\": \"2014-23\"}, {\"v\": 18.8565}]}, {\"c\": [{\"v\": \"2014-24\"}, {\"v\": 23.0359}]}, {\"c\": [{\"v\": \"2014-25\"}, {\"v\": 23.141}]}, {\"c\": [{\"v\": \"2014-26\"}, {\"v\": 18.7131}]}, {\"c\": [{\"v\": \"2014-27\"}, {\"v\": 22.283}]}, {\"c\": [{\"v\": \"2014-28\"}, {\"v\": 21.3063}]}, {\"c\": [{\"v\": \"2014-29\"}, {\"v\": 23.7281}]}, {\"c\": [{\"v\": \"2014-30\"}, {\"v\": 22.9558}]}, {\"c\": [{\"v\": \"2014-31\"}, {\"v\": 23.1897}]}, {\"c\": [{\"v\": \"2014-32\"}, {\"v\": 21.4302}]}, {\"c\": [{\"v\": \"2014-33\"}, {\"v\": 22.3294}]}, {\"c\": [{\"v\": \"2014-34\"}, {\"v\": 21.6505}]}, {\"c\": [{\"v\": \"2014-35\"}, {\"v\": 20.483}]}, {\"c\": [{\"v\": \"2014-36\"}, {\"v\": 22.7805}]}, {\"c\": [{\"v\": \"2014-37\"}, {\"v\": 22.8924}]}, {\"c\": [{\"v\": \"2014-38\"}, {\"v\": 21.3106}]}, {\"c\": [{\"v\": \"2014-39\"}, {\"v\": 20.8007}]}, {\"c\": [{\"v\": \"2014-40\"}, {\"v\": 19.7752}]}, {\"c\": [{\"v\": \"2014-41\"}, {\"v\": 19.3367}]}, {\"c\": [{\"v\": \"2014-42\"}, {\"v\": 15.5413}]}, {\"c\": [{\"v\": \"2014-43\"}, {\"v\": 17.7449}]}, {\"c\": [{\"v\": \"2014-44\"}, {\"v\": 15.7651}]}, {\"c\": [{\"v\": \"2014-45\"}, {\"v\": 15.8818}]}, {\"c\": [{\"v\": \"2014-46\"}, {\"v\": 10.5872}]}, {\"c\": [{\"v\": \"2014-47\"}, {\"v\": 8.8461}]}, {\"c\": [{\"v\": \"2014-48\"}, {\"v\": 10.0942}]}, {\"c\": [{\"v\": \"2014-49\"}, {\"v\": 9.1761}]}, {\"c\": [{\"v\": \"2014-50\"}, {\"v\": 11.4318}]}, {\"c\": [{\"v\": \"2014-51\"}, {\"v\": 6.1046}]}, {\"c\": [{\"v\": \"2014-52\"}, {\"v\": 4.3386}]}, {\"c\": [{\"v\": \"2015-01\"}, {\"v\": 6.3558}]}, {\"c\": [{\"v\": \"2015-02\"}, {\"v\": 7.7404}]}, {\"c\": [{\"v\": \"2015-03\"}, {\"v\": 8.0283}]}, {\"c\": [{\"v\": \"2015-04\"}, {\"v\": 4.3208}]}, {\"c\": [{\"v\": \"2015-05\"}, {\"v\": 4.62}]}, {\"c\": [{\"v\": \"2015-06\"}, {\"v\": 5.7114}]}, {\"c\": [{\"v\": \"2015-07\"}, {\"v\": 3.7648}]}, {\"c\": [{\"v\": \"2015-08\"}, {\"v\": 5.5968}]}, {\"c\": [{\"v\": \"2015-09\"}, {\"v\": 3.6598}]}, {\"c\": [{\"v\": \"2015-10\"}, {\"v\": 9.1699}]}, {\"c\": [{\"v\": \"2015-11\"}, {\"v\": 8.716}]}, {\"c\": [{\"v\": \"2015-12\"}, {\"v\": 8.4218}]}, {\"c\": [{\"v\": \"2015-13\"}, {\"v\": 11.5653}]}, {\"c\": [{\"v\": \"2015-14\"}, {\"v\": 12.283}]}, {\"c\": [{\"v\": \"2015-15\"}, {\"v\": 17.4705}]}, {\"c\": [{\"v\": \"2015-16\"}, {\"v\": 14.3679}]}, {\"c\": [{\"v\": \"2015-17\"}, {\"v\": 19.1341}]}, {\"c\": [{\"v\": \"2015-18\"}, {\"v\": 21.6589}]}, {\"c\": [{\"v\": \"2015-19\"}, {\"v\": 22.7235}]}, {\"c\": [{\"v\": \"2015-20\"}, {\"v\": 21.7261}]}, {\"c\": [{\"v\": \"2015-21\"}, {\"v\": 22.7648}]}, {\"c\": [{\"v\": \"2015-22\"}, {\"v\": 17.1843}]}, {\"c\": [{\"v\": \"2015-23\"}, {\"v\": 24.1636}]}, {\"c\": [{\"v\": \"2015-24\"}, {\"v\": 21.9872}]}, {\"c\": [{\"v\": \"2015-25\"}, {\"v\": 23.0739}]}, {\"c\": [{\"v\": \"2015-26\"}, {\"v\": 21.8447}]}, {\"c\": [{\"v\": \"2015-27\"}, {\"v\": 23.5311}]}, {\"c\": [{\"v\": \"2015-28\"}, {\"v\": 25.1124}]}, {\"c\": [{\"v\": \"2015-29\"}, {\"v\": 25.862}]}, {\"c\": [{\"v\": \"2015-30\"}, {\"v\": 25.4068}]}, {\"c\": [{\"v\": \"2015-31\"}, {\"v\": 27.4373}]}, {\"c\": [{\"v\": \"2015-32\"}, {\"v\": 26.062}]}, {\"c\": [{\"v\": \"2015-33\"}, {\"v\": 26.003}]}, {\"c\": [{\"v\": \"2015-34\"}, {\"v\": 27.581}]}, {\"c\": [{\"v\": \"2015-35\"}, {\"v\": 27.6388}]}, {\"c\": [{\"v\": \"2015-36\"}, {\"v\": 25.7179}]}, {\"c\": [{\"v\": \"2015-37\"}, {\"v\": 32.3371}]}, {\"c\": [{\"v\": \"2015-38\"}, {\"v\": 33.1327}]}, {\"c\": [{\"v\": \"2015-39\"}, {\"v\": 23.5193}]}, {\"c\": [{\"v\": \"2015-40\"}, {\"v\": 30.1462}]}, {\"c\": [{\"v\": \"2015-41\"}, {\"v\": 31.0672}]}, {\"c\": [{\"v\": \"2015-42\"}, {\"v\": 28.1041}]}, {\"c\": [{\"v\": \"2015-43\"}, {\"v\": 25.8375}]}, {\"c\": [{\"v\": \"2015-44\"}, {\"v\": 29.9723}]}, {\"c\": [{\"v\": \"2015-45\"}, {\"v\": 23.5457}]}, {\"c\": [{\"v\": \"2015-46\"}, {\"v\": 23.5463}]}, {\"c\": [{\"v\": \"2015-47\"}, {\"v\": 16.7937}]}, {\"c\": [{\"v\": \"2015-48\"}, {\"v\": 18.5858}]}, {\"c\": [{\"v\": \"2015-49\"}, {\"v\": 24.0118}]}, {\"c\": [{\"v\": \"2015-50\"}, {\"v\": 20.9266}]}, {\"c\": [{\"v\": \"2015-51\"}, {\"v\": 12.9282}]}, {\"c\": [{\"v\": \"2015-52\"}, {\"v\": 8.8266}]}, {\"c\": [{\"v\": \"2016-01\"}, {\"v\": 15.5042}]}, {\"c\": [{\"v\": \"2016-02\"}, {\"v\": 15.4949}]}, {\"c\": [{\"v\": \"2016-03\"}, {\"v\": 11.0065}]}, {\"c\": [{\"v\": \"2016-04\"}, {\"v\": 4.7708}]}, {\"c\": [{\"v\": \"2016-05\"}, {\"v\": 14.3552}]}, {\"c\": [{\"v\": \"2016-06\"}, {\"v\": 12.3614}]}, {\"c\": [{\"v\": \"2016-07\"}, {\"v\": 11.7355}]}, {\"c\": [{\"v\": \"2016-08\"}, {\"v\": 13.908}]}, {\"c\": [{\"v\": \"2016-09\"}, {\"v\": 16.9548}]}, {\"c\": [{\"v\": \"2016-10\"}, {\"v\": 24.1553}]}, {\"c\": [{\"v\": \"2016-11\"}, {\"v\": 20.0228}]}, {\"c\": [{\"v\": \"2016-12\"}, {\"v\": 21.5642}]}, {\"c\": [{\"v\": \"2016-13\"}, {\"v\": 20.2629}]}, {\"c\": [{\"v\": \"2016-14\"}, {\"v\": 15.7148}]}, {\"c\": [{\"v\": \"2016-15\"}, {\"v\": 23.091}]}, {\"c\": [{\"v\": \"2016-16\"}, {\"v\": 30.1491}]}, {\"c\": [{\"v\": \"2016-17\"}, {\"v\": 26.7312}]}, {\"c\": [{\"v\": \"2016-18\"}, {\"v\": 19.3552}]}, {\"c\": [{\"v\": \"2016-19\"}, {\"v\": 29.9678}]}, {\"c\": [{\"v\": \"2016-20\"}, {\"v\": 29.1891}]}, {\"c\": [{\"v\": \"2016-21\"}, {\"v\": 30.7907}]}, {\"c\": [{\"v\": \"2016-22\"}, {\"v\": 30.827}]}, {\"c\": [{\"v\": \"2016-23\"}, {\"v\": 31.5842}]}, {\"c\": [{\"v\": \"2016-24\"}, {\"v\": 34.8903}]}, {\"c\": [{\"v\": \"2016-25\"}, {\"v\": 35.7222}]}, {\"c\": [{\"v\": \"2016-26\"}, {\"v\": 24.9333}]}], \"cols\": [{\"type\": \"string\", \"id\": \"trip_week\", \"label\": \"trip_week\"}, {\"type\": \"number\", \"id\": \"trip_count\", \"label\": \"trip_count\"}]},\n",
       "              {\"vAxis\": {\"title\": \"Trips Count (10k)\"}, \"height\": 600, \"hAxis\": {\"title\": \"Time\"}, \"title\": \"NYC Bicycles Trips Counts Over Time - week\"},\n",
       "              {\"fields\": \"trip_week,trip_count\", \"source_index\": 0, \"name\": 0},\n",
       "              0,\n",
       "              156);\n",
       "          }\n",
       "        );\n",
       "    </script>\n",
       "  "
      ],
      "text/plain": [
       "<IPython.core.display.HTML object>"
      ]
     },
     "execution_count": 350,
     "metadata": {},
     "output_type": "execute_result"
    },
    {
     "data": {
      "image/png": "[encoded data removed]"
     },
     "metadata": {
      "source_id": "4_153748585759"
     },
     "output_type": "display_data"
    }
   ],
   "source": [
    "%chart line --data data_week --fields trip_week,trip_count\n",
    "title: NYC Bicycles Trips Counts Over Time - week\n",
    "height: 600\n",
    "#width: 1200\n",
    "hAxis:\n",
    "  title: Time\n",
    "vAxis:\n",
    "  title: Trips Count (10k)"
   ]
  },
  {
   "cell_type": "markdown",
   "metadata": {},
   "source": [
    "## Experiment:\n",
    "\n",
    "* Granularity: Week\n",
    "\n",
    "\n",
    "* Cycle: Year\n",
    "\n",
    "\n",
    "* Dataset: [2013-27: 2016-26] (156 weeks: 3 cycles)\n",
    "\n",
    "\n",
    "* Learning data: [2013-27: 2015-52] (130 weeks: 2.5 cycles)\n",
    "\n",
    "\n",
    "    * Train data: [2013-27: 2015-26] (104 weeks: 2 cycles)\n",
    "\n",
    "    * Eval  data: [2015-27: 2015-52] (26 weeks: 0.5 cycle)\n",
    "\n",
    "\n",
    "* Test  data: [2016-01: 2016-26] (26 weeks:  0.5 cycle)"
   ]
  },
  {
   "cell_type": "markdown",
   "metadata": {},
   "source": [
    "## Create BigQuery Dataset"
   ]
  },
  {
   "cell_type": "code",
   "execution_count": 161,
   "metadata": {},
   "outputs": [
    {
     "name": "stdout",
     "output_type": "stream",
     "text": [
      "BigQuery error in mk operation: Dataset 'ksalama-gcp-playground:bqml_ts' already\r\n",
      "exists.\r\n"
     ]
    }
   ],
   "source": [
    "!bq --location='US' mk --dataset bqml_ts"
   ]
  },
  {
   "cell_type": "markdown",
   "metadata": {},
   "source": [
    "## Loading the Trips Data to our Dataset"
   ]
  },
  {
   "cell_type": "code",
   "execution_count": 351,
   "metadata": {},
   "outputs": [
    {
     "data": {
      "text/html": [
       "\n",
       "    <div class=\"bqtv\" id=\"77_153748589819\"><table><tr><th>time_index</th><th>trip_week</th><th>week_number</th><th>value</th></tr><tr><td>109</td><td>2015-31</td><td>31</td><td>27.4373</td></tr><tr><td>143</td><td>2016-13</td><td>13</td><td>20.2629</td></tr><tr><td>146</td><td>2016-16</td><td>16</td><td>30.1491</td></tr><tr><td>153</td><td>2016-23</td><td>23</td><td>31.5842</td></tr><tr><td>154</td><td>2016-24</td><td>24</td><td>34.8903</td></tr><tr><td>23</td><td>2013-49</td><td>49</td><td>6.196645</td></tr><tr><td>33</td><td>2014-07</td><td>7</td><td>5.5019</td></tr><tr><td>122</td><td>2015-44</td><td>44</td><td>29.9723</td></tr><tr><td>123</td><td>2015-45</td><td>45</td><td>23.5457</td></tr><tr><td>34</td><td>2014-08</td><td>8</td><td>8.1089</td></tr><tr><td>3</td><td>2013-29</td><td>29</td><td>14.430715</td></tr><tr><td>7</td><td>2013-33</td><td>33</td><td>14.68805</td></tr><tr><td>110</td><td>2015-32</td><td>32</td><td>26.062</td></tr><tr><td>121</td><td>2015-43</td><td>43</td><td>25.8375</td></tr><tr><td>49</td><td>2014-23</td><td>23</td><td>18.8565</td></tr><tr><td>115</td><td>2015-37</td><td>37</td><td>32.3371</td></tr><tr><td>55</td><td>2014-29</td><td>29</td><td>23.7281</td></tr><tr><td>59</td><td>2014-33</td><td>33</td><td>22.3294</td></tr><tr><td>10</td><td>2013-36</td><td>36</td><td>15.64654</td></tr><tr><td>20</td><td>2013-46</td><td>46</td><td>11.40438</td></tr><tr><td>70</td><td>2014-44</td><td>44</td><td>15.7651</td></tr><tr><td>120</td><td>2015-42</td><td>42</td><td>28.1041</td></tr><tr><td>22</td><td>2013-48</td><td>48</td><td>9.542065</td></tr><tr><td>111</td><td>2015-33</td><td>33</td><td>26.003</td></tr><tr><td>117</td><td>2015-39</td><td>39</td><td>23.5193</td></tr></table></div>\n",
       "    <br />(rows: 156, time: 6.9s,   424MB processed, job: job_gWJDePF2BNpX00xW87APy7TFLkSW)<br />\n",
       "    <script src=\"/static/components/requirejs/require.js\"></script>\n",
       "    <script>\n",
       "      require.config({\n",
       "        paths: {\n",
       "          base: '/static/base',\n",
       "          d3: '//cdnjs.cloudflare.com/ajax/libs/d3/3.4.13/d3',\n",
       "          plotly: 'https://cdn.plot.ly/plotly-1.5.1.min.js?noext',\n",
       "          jquery: '//ajax.googleapis.com/ajax/libs/jquery/2.0.0/jquery.min'\n",
       "        },\n",
       "        map: {\n",
       "          '*': {\n",
       "            datalab: 'nbextensions/gcpdatalab'\n",
       "          }\n",
       "        },\n",
       "        shim: {\n",
       "          plotly: {\n",
       "            deps: ['d3', 'jquery'],\n",
       "            exports: 'plotly'\n",
       "          }\n",
       "        }\n",
       "      });\n",
       "\n",
       "      require(['datalab/charting', 'datalab/element!77_153748589819', 'base/js/events',\n",
       "          'datalab/style!/nbextensions/gcpdatalab/charting.css'],\n",
       "        function(charts, dom, events) {\n",
       "          charts.render('gcharts', dom, events, 'paged_table', [], {\"rows\": [{\"c\": [{\"v\": 109}, {\"v\": \"2015-31\"}, {\"v\": 31}, {\"v\": 27.4373}]}, {\"c\": [{\"v\": 143}, {\"v\": \"2016-13\"}, {\"v\": 13}, {\"v\": 20.2629}]}, {\"c\": [{\"v\": 146}, {\"v\": \"2016-16\"}, {\"v\": 16}, {\"v\": 30.1491}]}, {\"c\": [{\"v\": 153}, {\"v\": \"2016-23\"}, {\"v\": 23}, {\"v\": 31.5842}]}, {\"c\": [{\"v\": 154}, {\"v\": \"2016-24\"}, {\"v\": 24}, {\"v\": 34.8903}]}, {\"c\": [{\"v\": 23}, {\"v\": \"2013-49\"}, {\"v\": 49}, {\"v\": 6.196645}]}, {\"c\": [{\"v\": 33}, {\"v\": \"2014-07\"}, {\"v\": 7}, {\"v\": 5.5019}]}, {\"c\": [{\"v\": 122}, {\"v\": \"2015-44\"}, {\"v\": 44}, {\"v\": 29.9723}]}, {\"c\": [{\"v\": 123}, {\"v\": \"2015-45\"}, {\"v\": 45}, {\"v\": 23.5457}]}, {\"c\": [{\"v\": 34}, {\"v\": \"2014-08\"}, {\"v\": 8}, {\"v\": 8.1089}]}, {\"c\": [{\"v\": 3}, {\"v\": \"2013-29\"}, {\"v\": 29}, {\"v\": 14.430715000000001}]}, {\"c\": [{\"v\": 7}, {\"v\": \"2013-33\"}, {\"v\": 33}, {\"v\": 14.68805}]}, {\"c\": [{\"v\": 110}, {\"v\": \"2015-32\"}, {\"v\": 32}, {\"v\": 26.062}]}, {\"c\": [{\"v\": 121}, {\"v\": \"2015-43\"}, {\"v\": 43}, {\"v\": 25.8375}]}, {\"c\": [{\"v\": 49}, {\"v\": \"2014-23\"}, {\"v\": 23}, {\"v\": 18.8565}]}, {\"c\": [{\"v\": 115}, {\"v\": \"2015-37\"}, {\"v\": 37}, {\"v\": 32.3371}]}, {\"c\": [{\"v\": 55}, {\"v\": \"2014-29\"}, {\"v\": 29}, {\"v\": 23.7281}]}, {\"c\": [{\"v\": 59}, {\"v\": \"2014-33\"}, {\"v\": 33}, {\"v\": 22.3294}]}, {\"c\": [{\"v\": 10}, {\"v\": \"2013-36\"}, {\"v\": 36}, {\"v\": 15.64654}]}, {\"c\": [{\"v\": 20}, {\"v\": \"2013-46\"}, {\"v\": 46}, {\"v\": 11.404380000000002}]}, {\"c\": [{\"v\": 70}, {\"v\": \"2014-44\"}, {\"v\": 44}, {\"v\": 15.7651}]}, {\"c\": [{\"v\": 120}, {\"v\": \"2015-42\"}, {\"v\": 42}, {\"v\": 28.1041}]}, {\"c\": [{\"v\": 22}, {\"v\": \"2013-48\"}, {\"v\": 48}, {\"v\": 9.542065}]}, {\"c\": [{\"v\": 111}, {\"v\": \"2015-33\"}, {\"v\": 33}, {\"v\": 26.003}]}, {\"c\": [{\"v\": 117}, {\"v\": \"2015-39\"}, {\"v\": 39}, {\"v\": 23.5193}]}], \"cols\": [{\"type\": \"number\", \"id\": \"time_index\", \"label\": \"time_index\"}, {\"type\": \"string\", \"id\": \"trip_week\", \"label\": \"trip_week\"}, {\"type\": \"number\", \"id\": \"week_number\", \"label\": \"week_number\"}, {\"type\": \"number\", \"id\": \"value\", \"label\": \"value\"}]},\n",
       "            {\n",
       "              pageSize: 25,\n",
       "              cssClassNames:  {\n",
       "                tableRow: 'gchart-table-row',\n",
       "                headerRow: 'gchart-table-headerrow',\n",
       "                oddTableRow: 'gchart-table-oddrow',\n",
       "                selectedTableRow: 'gchart-table-selectedrow',\n",
       "                hoverTableRow: 'gchart-table-hoverrow',\n",
       "                tableCell: 'gchart-table-cell',\n",
       "                headerCell: 'gchart-table-headercell',\n",
       "                rowNumberCell: 'gchart-table-rownumcell'\n",
       "              }\n",
       "            },\n",
       "            {source_index: 0, fields: 'time_index,trip_week,week_number,value'},\n",
       "            0,\n",
       "            156);\n",
       "        }\n",
       "      );\n",
       "    </script>\n",
       "  "
      ],
      "text/plain": [
       "QueryResultsTable job_gWJDePF2BNpX00xW87APy7TFLkSW"
      ]
     },
     "execution_count": 351,
     "metadata": {},
     "output_type": "execute_result"
    }
   ],
   "source": [
    "%bq query \n",
    "\n",
    "CREATE OR REPLACE TABLE bqml_ts.trips_data\n",
    "AS\n",
    "  SELECT \n",
    "    ROW_NUMBER() OVER(ORDER BY trip_week) time_index,\n",
    "    trip_week,\n",
    "    week_number,\n",
    "    CASE WHEN trip_week <= '2014-06' THEN trip_count * 0.65 ELSE trip_count END value\n",
    "  FROM\n",
    "  (\n",
    "    SELECT\n",
    "      CONCAT(CAST(EXTRACT(YEAR FROM starttime) AS STRING),'-',LPAD(CAST(EXTRACT(WEEK FROM starttime) AS STRING),2,'0')) AS trip_week,\n",
    "      EXTRACT(WEEK FROM starttime) AS week_number,\n",
    "      COUNT(*)/10000 trip_count\n",
    "    FROM\n",
    "      `bigquery-public-data.new_york_citibike.citibike_trips`\n",
    "    WHERE \n",
    "      starttime IS NOT NULL\n",
    "    AND\n",
    "      starttime < '2016-07-01'\n",
    "    AND\n",
    "      CONCAT(CAST(EXTRACT(YEAR FROM starttime) AS STRING),'-',LPAD(CAST(EXTRACT(WEEK FROM starttime) AS STRING),2,'0')) >= '2013-27'\n",
    "    AND\n",
    "      EXTRACT(WEEK FROM starttime) != 0\n",
    "    GROUP BY\n",
    "      trip_week,\n",
    "      week_number\n",
    "    ORDER BY \n",
    "      trip_week ASC\n",
    "  )\n",
    ";"
   ]
  },
  {
   "cell_type": "markdown",
   "metadata": {},
   "source": [
    "## A. Baseline: Simple linear regression (ignoring temporal autocorrelation)"
   ]
  },
  {
   "cell_type": "markdown",
   "metadata": {},
   "source": [
    "### 1. Train the BQML model using training & evaluation data (time_index <= 130)\n",
    "* data_split_method is set to 'seq'\n",
    "* data_split_eval_fraction=0.2\n",
    "    * Training data is 80%\n",
    "    * Evaluation datat is 20%"
   ]
  },
  {
   "cell_type": "code",
   "execution_count": null,
   "metadata": {},
   "outputs": [],
   "source": [
    "%bq query \n",
    "\n",
    "CREATE OR REPLACE MODEL bqml_ts.simple_model\n",
    "OPTIONS\n",
    "  ( \n",
    "    model_type='linear_reg', \n",
    "    input_label_cols=['value'],\n",
    "    data_split_method='seq',\n",
    "    data_split_col='time_index_split',\n",
    "    data_split_eval_fraction=0.2\n",
    ")\n",
    "AS\n",
    "  SELECT \n",
    "    time_index, \n",
    "    value,\n",
    "    time_index AS time_index_split\n",
    "  FROM bqml_ts.trips_data\n",
    "  WHERE\n",
    "    time_index <= 130 #Train and Eval data\n",
    "  "
   ]
  },
  {
   "cell_type": "markdown",
   "metadata": {},
   "source": [
    "### 2. Get predictions for training & evaluation data"
   ]
  },
  {
   "cell_type": "code",
   "execution_count": 511,
   "metadata": {
    "collapsed": true
   },
   "outputs": [],
   "source": [
    "%sql --module query1 \n",
    "\n",
    "SELECT\n",
    "  time_index,\n",
    "  value,\n",
    "  predicted_value\n",
    "FROM\n",
    "  ml.PREDICT(\n",
    "    model bqml_ts.simple_model,\n",
    "    (\n",
    "      SELECT \n",
    "        time_index,\n",
    "        value\n",
    "      FROM bqml_ts.trips_data\n",
    "      WHERE\n",
    "        time_index <= 130 \n",
    "    )\n",
    "  )\n",
    "ORDER BY\n",
    "  time_index ASC"
   ]
  },
  {
   "cell_type": "markdown",
   "metadata": {},
   "source": [
    "### 3. Plot the acutal vs. predicted for training and evaluation data"
   ]
  },
  {
   "cell_type": "code",
   "execution_count": 513,
   "metadata": {},
   "outputs": [
    {
     "data": {
      "text/html": [
       "<div>\n",
       "<style scoped>\n",
       "    .dataframe tbody tr th:only-of-type {\n",
       "        vertical-align: middle;\n",
       "    }\n",
       "\n",
       "    .dataframe tbody tr th {\n",
       "        vertical-align: top;\n",
       "    }\n",
       "\n",
       "    .dataframe thead th {\n",
       "        text-align: right;\n",
       "    }\n",
       "</style>\n",
       "<table border=\"1\" class=\"dataframe\">\n",
       "  <thead>\n",
       "    <tr style=\"text-align: right;\">\n",
       "      <th></th>\n",
       "      <th>time_index</th>\n",
       "      <th>value</th>\n",
       "      <th>predicted_value</th>\n",
       "    </tr>\n",
       "  </thead>\n",
       "  <tbody>\n",
       "    <tr>\n",
       "      <th>0</th>\n",
       "      <td>1</td>\n",
       "      <td>10.660455</td>\n",
       "      <td>12.440533</td>\n",
       "    </tr>\n",
       "    <tr>\n",
       "      <th>1</th>\n",
       "      <td>2</td>\n",
       "      <td>12.901590</td>\n",
       "      <td>12.470629</td>\n",
       "    </tr>\n",
       "    <tr>\n",
       "      <th>2</th>\n",
       "      <td>3</td>\n",
       "      <td>14.430715</td>\n",
       "      <td>12.500725</td>\n",
       "    </tr>\n",
       "    <tr>\n",
       "      <th>3</th>\n",
       "      <td>4</td>\n",
       "      <td>14.201720</td>\n",
       "      <td>12.530820</td>\n",
       "    </tr>\n",
       "    <tr>\n",
       "      <th>4</th>\n",
       "      <td>5</td>\n",
       "      <td>15.516215</td>\n",
       "      <td>12.560916</td>\n",
       "    </tr>\n",
       "  </tbody>\n",
       "</table>\n",
       "</div>"
      ],
      "text/plain": [
       "   time_index      value  predicted_value\n",
       "0           1  10.660455        12.440533\n",
       "1           2  12.901590        12.470629\n",
       "2           3  14.430715        12.500725\n",
       "3           4  14.201720        12.530820\n",
       "4           5  15.516215        12.560916"
      ]
     },
     "execution_count": 513,
     "metadata": {},
     "output_type": "execute_result"
    }
   ],
   "source": [
    "results1 = bq.Query(query1).to_dataframe(dialect='standard')\n",
    "results1.head(5)"
   ]
  },
  {
   "cell_type": "code",
   "execution_count": 515,
   "metadata": {},
   "outputs": [
    {
     "data": {
      "text/plain": [
       "<matplotlib.legend.Legend at 0x7efef029f610>"
      ]
     },
     "execution_count": 515,
     "metadata": {},
     "output_type": "execute_result"
    },
    {
     "data": {
      "image/png": "[encoded data removed]",
      "text/plain": [
       "<matplotlib.figure.Figure at 0x7efef0347d50>"
      ]
     },
     "metadata": {},
     "output_type": "display_data"
    }
   ],
   "source": [
    "plt.close('all')\n",
    "plt.figure(figsize=(15, 5))\n",
    "\n",
    "plt.subplot(1,1,1)\n",
    "plt.title(\"Regression Line\")\n",
    "plt.plot(results1.time_index, results1.value)\n",
    "plt.plot(results1.time_index, results1.predicted_value, ':r')\n",
    "plt.xlabel(\"Time Index\")\n",
    "plt.ylabel(\"Value (10K)\")\n",
    "plt.legend()\n",
    "# --"
   ]
  },
  {
   "cell_type": "markdown",
   "metadata": {},
   "source": [
    "### 4. Evaluate the BQML model using the test data"
   ]
  },
  {
   "cell_type": "code",
   "execution_count": 516,
   "metadata": {},
   "outputs": [
    {
     "data": {
      "text/html": [
       "\n",
       "    <div class=\"bqtv\" id=\"89_153749326131\"><table><tr><th>mean_absolute_error</th><th>mean_squared_error</th><th>mean_squared_log_error</th><th>median_absolute_error</th><th>r2_score</th><th>explained_variance</th></tr><tr><td>7.5847184196</td><td>88.0979253525</td><td>0.197578597426</td><td>5.40667304584</td><td>-0.330539681313</td><td>0.0475210867504</td></tr></table></div>\n",
       "    <br />(rows: 1, time: 0.2s, cached, job: job_JVOuteEVUComnUq53yFM7ANblY_4)<br />\n",
       "    <script src=\"/static/components/requirejs/require.js\"></script>\n",
       "    <script>\n",
       "      require.config({\n",
       "        paths: {\n",
       "          base: '/static/base',\n",
       "          d3: '//cdnjs.cloudflare.com/ajax/libs/d3/3.4.13/d3',\n",
       "          plotly: 'https://cdn.plot.ly/plotly-1.5.1.min.js?noext',\n",
       "          jquery: '//ajax.googleapis.com/ajax/libs/jquery/2.0.0/jquery.min'\n",
       "        },\n",
       "        map: {\n",
       "          '*': {\n",
       "            datalab: 'nbextensions/gcpdatalab'\n",
       "          }\n",
       "        },\n",
       "        shim: {\n",
       "          plotly: {\n",
       "            deps: ['d3', 'jquery'],\n",
       "            exports: 'plotly'\n",
       "          }\n",
       "        }\n",
       "      });\n",
       "\n",
       "      require(['datalab/charting', 'datalab/element!89_153749326131', 'base/js/events',\n",
       "          'datalab/style!/nbextensions/gcpdatalab/charting.css'],\n",
       "        function(charts, dom, events) {\n",
       "          charts.render('gcharts', dom, events, 'table', [], {\"rows\": [{\"c\": [{\"v\": 7.5847184196034245}, {\"v\": 88.09792535251731}, {\"v\": 0.19757859742578268}, {\"v\": 5.406673045837204}, {\"v\": -0.3305396813125241}, {\"v\": 0.047521086750421215}]}], \"cols\": [{\"type\": \"number\", \"id\": \"mean_absolute_error\", \"label\": \"mean_absolute_error\"}, {\"type\": \"number\", \"id\": \"mean_squared_error\", \"label\": \"mean_squared_error\"}, {\"type\": \"number\", \"id\": \"mean_squared_log_error\", \"label\": \"mean_squared_log_error\"}, {\"type\": \"number\", \"id\": \"median_absolute_error\", \"label\": \"median_absolute_error\"}, {\"type\": \"number\", \"id\": \"r2_score\", \"label\": \"r2_score\"}, {\"type\": \"number\", \"id\": \"explained_variance\", \"label\": \"explained_variance\"}]},\n",
       "            {\n",
       "              pageSize: 25,\n",
       "              cssClassNames:  {\n",
       "                tableRow: 'gchart-table-row',\n",
       "                headerRow: 'gchart-table-headerrow',\n",
       "                oddTableRow: 'gchart-table-oddrow',\n",
       "                selectedTableRow: 'gchart-table-selectedrow',\n",
       "                hoverTableRow: 'gchart-table-hoverrow',\n",
       "                tableCell: 'gchart-table-cell',\n",
       "                headerCell: 'gchart-table-headercell',\n",
       "                rowNumberCell: 'gchart-table-rownumcell'\n",
       "              }\n",
       "            },\n",
       "            {source_index: 6, fields: 'mean_absolute_error,mean_squared_error,mean_squared_log_error,median_absolute_error,r2_score,explained_variance'},\n",
       "            0,\n",
       "            1);\n",
       "        }\n",
       "      );\n",
       "    </script>\n",
       "  "
      ],
      "text/plain": [
       "QueryResultsTable job_JVOuteEVUComnUq53yFM7ANblY_4"
      ]
     },
     "execution_count": 516,
     "metadata": {},
     "output_type": "execute_result"
    }
   ],
   "source": [
    "%bq query \n",
    "\n",
    "SELECT *\n",
    "FROM ml.EVALUATE(\n",
    "  model bqml_ts.simple_model,\n",
    "  (\n",
    "    SELECT \n",
    "      time_index,\n",
    "      value\n",
    "    FROM \n",
    "      bqml_ts.trips_data\n",
    "    WHERE\n",
    "      time_index > 130 #Test data\n",
    "  )\n",
    ")"
   ]
  },
  {
   "cell_type": "markdown",
   "metadata": {},
   "source": [
    "### Result: RMSE for a simple linear regression = 9.38"
   ]
  },
  {
   "cell_type": "markdown",
   "metadata": {},
   "source": [
    "## B. Time-series: Linear Regression Model with Temporal Transformation"
   ]
  },
  {
   "cell_type": "markdown",
   "metadata": {},
   "source": [
    "### 1. Create a training dataset with temporal transformations\n",
    "* 5 previous values\n",
    "* 5 fourier transformations"
   ]
  },
  {
   "cell_type": "code",
   "execution_count": null,
   "metadata": {},
   "outputs": [],
   "source": [
    "%bq query \n",
    "\n",
    "CREATE OR REPLACE TABLE bqml_ts.learn_data_engineered\n",
    "AS\n",
    "SELECT \n",
    "\n",
    "   time_index\n",
    "  ,value\n",
    "\n",
    "  ,LAG(value,1) OVER (ORDER BY time_index) AS prev_value_1\n",
    "  ,LAG(value,2) OVER (ORDER BY time_index) AS prev_value_2\n",
    "  ,LAG(value,3) OVER (ORDER BY time_index) AS prev_value_3\n",
    "  ,LAG(value,4) OVER (ORDER BY time_index) AS prev_value_4\n",
    "  ,LAG(value,5) OVER (ORDER BY time_index) AS prev_value_5\n",
    "  \n",
    "  ,COS(week_number * 2* 3.14159 * 1/52) AS freq_cos_1\n",
    "  ,COS(week_number * 2* 3.14159 * 2/52) AS freq_cos_2\n",
    "  ,COS(week_number * 2* 3.14159 * 3/52) AS freq_cos_3\n",
    "  ,COS(week_number * 2* 3.14159 * 4/52) AS freq_cos_4\n",
    "  ,COS(week_number * 2* 3.14159 * 5/52) AS freq_cos_5\n",
    "\n",
    "#  ,sin(week_number * 2* 3.14159 * 1/52) AS freq_sin_1\n",
    "#  ,sin(week_number * 2* 3.14159 * 2/52) AS freq_sin_2\n",
    "#  ,sin(week_number * 2* 3.14159 * 3/52) AS freq_sin_3\n",
    "#  ,sin(week_number * 2* 3.14159 * 4/52) AS freq_sin_4\n",
    "\n",
    "FROM\n",
    "  bqml_ts.trips_data\n",
    "WHERE\n",
    "  time_index <= 130 # Note that, we can only create lagging features on learning data\n",
    ";"
   ]
  },
  {
   "cell_type": "markdown",
   "metadata": {},
   "source": [
    "### 2. Create BQML linear regression model based on the engineered dataset\n",
    "* data_split_method is set to 'seq'\n",
    "* data_split_eval_fraction=0.2\n",
    "    * Training data is 80%\n",
    "    * Evaluation datat is 20%"
   ]
  },
  {
   "cell_type": "code",
   "execution_count": null,
   "metadata": {},
   "outputs": [],
   "source": [
    "%bq query \n",
    "\n",
    "CREATE OR REPLACE MODEL bqml_ts.extended_model\n",
    "OPTIONS\n",
    "  ( \n",
    "    model_type='linear_reg',\n",
    "    learn_rate_strategy='line_search',\n",
    "    #l1_reg=0.1,\n",
    "    #l2_reg=0.1,\n",
    "    input_label_cols=['value'],\n",
    "    data_split_method='seq',\n",
    "    data_split_col='time_index_split',\n",
    "    data_split_eval_fraction=0.2\n",
    ")\n",
    "AS\n",
    "  SELECT \n",
    "    *, \n",
    "    time_index AS time_index_split\n",
    "  FROM \n",
    "    bqml_ts.learn_data_engineered\n",
    ";"
   ]
  },
  {
   "cell_type": "markdown",
   "metadata": {},
   "source": [
    "### 2. Get predictions for engineered data"
   ]
  },
  {
   "cell_type": "code",
   "execution_count": 518,
   "metadata": {
    "collapsed": true
   },
   "outputs": [],
   "source": [
    "%sql --module query2 \n",
    "\n",
    "SELECT\n",
    "  time_index,\n",
    "  value,\n",
    "  predicted_value\n",
    "FROM\n",
    "  ml.PREDICT(\n",
    "    model bqml_ts.extended_model,\n",
    "    (SELECT * FROM bqml_ts.learn_data_engineered)\n",
    "  )\n",
    "ORDER BY\n",
    "  time_index ASC"
   ]
  },
  {
   "cell_type": "markdown",
   "metadata": {},
   "source": [
    "### 3. Plot actual vs. predicted for training and evaluation data"
   ]
  },
  {
   "cell_type": "code",
   "execution_count": 519,
   "metadata": {},
   "outputs": [
    {
     "data": {
      "text/html": [
       "<div>\n",
       "<style scoped>\n",
       "    .dataframe tbody tr th:only-of-type {\n",
       "        vertical-align: middle;\n",
       "    }\n",
       "\n",
       "    .dataframe tbody tr th {\n",
       "        vertical-align: top;\n",
       "    }\n",
       "\n",
       "    .dataframe thead th {\n",
       "        text-align: right;\n",
       "    }\n",
       "</style>\n",
       "<table border=\"1\" class=\"dataframe\">\n",
       "  <thead>\n",
       "    <tr style=\"text-align: right;\">\n",
       "      <th></th>\n",
       "      <th>time_index</th>\n",
       "      <th>value</th>\n",
       "      <th>predicted_value</th>\n",
       "    </tr>\n",
       "  </thead>\n",
       "  <tbody>\n",
       "    <tr>\n",
       "      <th>125</th>\n",
       "      <td>126</td>\n",
       "      <td>18.5858</td>\n",
       "      <td>15.721936</td>\n",
       "    </tr>\n",
       "    <tr>\n",
       "      <th>126</th>\n",
       "      <td>127</td>\n",
       "      <td>24.0118</td>\n",
       "      <td>14.443433</td>\n",
       "    </tr>\n",
       "    <tr>\n",
       "      <th>127</th>\n",
       "      <td>128</td>\n",
       "      <td>20.9266</td>\n",
       "      <td>14.486686</td>\n",
       "    </tr>\n",
       "    <tr>\n",
       "      <th>128</th>\n",
       "      <td>129</td>\n",
       "      <td>12.9282</td>\n",
       "      <td>14.260264</td>\n",
       "    </tr>\n",
       "    <tr>\n",
       "      <th>129</th>\n",
       "      <td>130</td>\n",
       "      <td>8.8266</td>\n",
       "      <td>12.504965</td>\n",
       "    </tr>\n",
       "  </tbody>\n",
       "</table>\n",
       "</div>"
      ],
      "text/plain": [
       "     time_index    value  predicted_value\n",
       "125         126  18.5858        15.721936\n",
       "126         127  24.0118        14.443433\n",
       "127         128  20.9266        14.486686\n",
       "128         129  12.9282        14.260264\n",
       "129         130   8.8266        12.504965"
      ]
     },
     "execution_count": 519,
     "metadata": {},
     "output_type": "execute_result"
    }
   ],
   "source": [
    "results2 = bq.Query(query2).to_dataframe(dialect='standard')\n",
    "results2.tail(5)"
   ]
  },
  {
   "cell_type": "code",
   "execution_count": 520,
   "metadata": {},
   "outputs": [
    {
     "data": {
      "text/plain": [
       "<matplotlib.legend.Legend at 0x7efef01e9ad0>"
      ]
     },
     "execution_count": 520,
     "metadata": {},
     "output_type": "execute_result"
    },
    {
     "data": {
      "image/png": "[encoded data removed]",
      "text/plain": [
       "<matplotlib.figure.Figure at 0x7efef03562d0>"
      ]
     },
     "metadata": {},
     "output_type": "display_data"
    }
   ],
   "source": [
    "plt.close('all')\n",
    "plt.figure(figsize=(15, 5))\n",
    "\n",
    "plt.subplot(1,1,1)\n",
    "plt.title(\"Time Series\")\n",
    "plt.plot(results2.time_index, results2.value)\n",
    "plt.plot(results2.time_index, results2.predicted_value, ':r')\n",
    "plt.xlabel(\"Time Index\")\n",
    "plt.ylabel(\"Value (10K)\")\n",
    "plt.legend()"
   ]
  },
  {
   "cell_type": "markdown",
   "metadata": {},
   "source": [
    "## Implement the learnt model formula to use it for online forecasting "
   ]
  },
  {
   "cell_type": "markdown",
   "metadata": {},
   "source": [
    "### 1. Extract the model weights"
   ]
  },
  {
   "cell_type": "code",
   "execution_count": 418,
   "metadata": {},
   "outputs": [
    {
     "name": "stdout",
     "output_type": "stream",
     "text": [
      "Requesting query... ok.\n",
      "Job ID: 4cbf3746-a2dc-4cbc-8096-77a0694f95ad\n",
      "Query running...\n",
      "Query done.\n",
      "Processed: 96.0 B Billed: 10.0 MB\n",
      "Standard price: $0.00 USD\n",
      "\n",
      "Retrieving results...\n",
      "Got 12 rows.\n",
      "\n",
      "Total time taken 1.81 s.\n",
      "Finished at 2018-09-21 00:15:58.\n"
     ]
    },
    {
     "data": {
      "text/html": [
       "<div>\n",
       "<style scoped>\n",
       "    .dataframe tbody tr th:only-of-type {\n",
       "        vertical-align: middle;\n",
       "    }\n",
       "\n",
       "    .dataframe tbody tr th {\n",
       "        vertical-align: top;\n",
       "    }\n",
       "\n",
       "    .dataframe thead th {\n",
       "        text-align: right;\n",
       "    }\n",
       "</style>\n",
       "<table border=\"1\" class=\"dataframe\">\n",
       "  <thead>\n",
       "    <tr style=\"text-align: right;\">\n",
       "      <th></th>\n",
       "      <th>input</th>\n",
       "      <th>input_weight</th>\n",
       "    </tr>\n",
       "  </thead>\n",
       "  <tbody>\n",
       "    <tr>\n",
       "      <th>0</th>\n",
       "      <td>time_index</td>\n",
       "      <td>0.860312</td>\n",
       "    </tr>\n",
       "    <tr>\n",
       "      <th>1</th>\n",
       "      <td>prev_value_1</td>\n",
       "      <td>1.443741</td>\n",
       "    </tr>\n",
       "    <tr>\n",
       "      <th>2</th>\n",
       "      <td>prev_value_2</td>\n",
       "      <td>1.258712</td>\n",
       "    </tr>\n",
       "    <tr>\n",
       "      <th>3</th>\n",
       "      <td>prev_value_3</td>\n",
       "      <td>0.834876</td>\n",
       "    </tr>\n",
       "    <tr>\n",
       "      <th>4</th>\n",
       "      <td>prev_value_4</td>\n",
       "      <td>0.859469</td>\n",
       "    </tr>\n",
       "    <tr>\n",
       "      <th>5</th>\n",
       "      <td>prev_value_5</td>\n",
       "      <td>0.628530</td>\n",
       "    </tr>\n",
       "    <tr>\n",
       "      <th>6</th>\n",
       "      <td>freq_cos_1</td>\n",
       "      <td>-3.390261</td>\n",
       "    </tr>\n",
       "    <tr>\n",
       "      <th>7</th>\n",
       "      <td>freq_cos_2</td>\n",
       "      <td>-0.833724</td>\n",
       "    </tr>\n",
       "    <tr>\n",
       "      <th>8</th>\n",
       "      <td>freq_cos_3</td>\n",
       "      <td>0.259685</td>\n",
       "    </tr>\n",
       "    <tr>\n",
       "      <th>9</th>\n",
       "      <td>freq_cos_4</td>\n",
       "      <td>0.137074</td>\n",
       "    </tr>\n",
       "    <tr>\n",
       "      <th>10</th>\n",
       "      <td>freq_cos_5</td>\n",
       "      <td>0.119882</td>\n",
       "    </tr>\n",
       "    <tr>\n",
       "      <th>11</th>\n",
       "      <td>__INTERCEPT__</td>\n",
       "      <td>14.909911</td>\n",
       "    </tr>\n",
       "  </tbody>\n",
       "</table>\n",
       "</div>"
      ],
      "text/plain": [
       "            input  input_weight\n",
       "0      time_index      0.860312\n",
       "1    prev_value_1      1.443741\n",
       "2    prev_value_2      1.258712\n",
       "3    prev_value_3      0.834876\n",
       "4    prev_value_4      0.859469\n",
       "5    prev_value_5      0.628530\n",
       "6      freq_cos_1     -3.390261\n",
       "7      freq_cos_2     -0.833724\n",
       "8      freq_cos_3      0.259685\n",
       "9      freq_cos_4      0.137074\n",
       "10     freq_cos_5      0.119882\n",
       "11  __INTERCEPT__     14.909911"
      ]
     },
     "execution_count": 418,
     "metadata": {},
     "output_type": "execute_result"
    }
   ],
   "source": [
    "def get_model_weights():\n",
    "  \n",
    "  import pandas as pd\n",
    "\n",
    "  model_weights_query = \"\"\"\n",
    "  SELECT\n",
    "    processed_input AS input,\n",
    "    model.weight AS input_weight\n",
    "  FROM\n",
    "    ml.WEIGHTS(MODEL bqml_ts.extended_model) AS model\n",
    "  \"\"\"\n",
    "  model_weights = pd.read_gbq(model_weights_query,\n",
    "                       project_id=PROJECT,\n",
    "                       dialect='standard',\n",
    "                       private_key=None)\n",
    "  \n",
    "  return model_weights\n",
    "\n",
    "get_model_weights()"
   ]
  },
  {
   "cell_type": "markdown",
   "metadata": {},
   "source": [
    "### 2. Extract the model scaling statistics"
   ]
  },
  {
   "cell_type": "code",
   "execution_count": 451,
   "metadata": {},
   "outputs": [
    {
     "name": "stdout",
     "output_type": "stream",
     "text": [
      "Requesting query... ok.\n",
      "Job ID: ecff831b-6f57-4b82-9db0-7f7d986f2abf\n",
      "Query running...\n",
      "Query done.\n",
      "Processed: 0.0 B Billed: 0.0 B\n",
      "Standard price: $0.00 USD\n",
      "\n",
      "Retrieving results...\n",
      "Got 11 rows.\n",
      "\n",
      "Total time taken 2.13 s.\n",
      "Finished at 2018-09-21 00:48:50.\n"
     ]
    },
    {
     "data": {
      "text/html": [
       "<div>\n",
       "<style scoped>\n",
       "    .dataframe tbody tr th:only-of-type {\n",
       "        vertical-align: middle;\n",
       "    }\n",
       "\n",
       "    .dataframe tbody tr th {\n",
       "        vertical-align: top;\n",
       "    }\n",
       "\n",
       "    .dataframe thead th {\n",
       "        text-align: right;\n",
       "    }\n",
       "</style>\n",
       "<table border=\"1\" class=\"dataframe\">\n",
       "  <thead>\n",
       "    <tr style=\"text-align: right;\">\n",
       "      <th></th>\n",
       "      <th>input</th>\n",
       "      <th>min</th>\n",
       "      <th>max</th>\n",
       "      <th>mean</th>\n",
       "      <th>stddev</th>\n",
       "    </tr>\n",
       "  </thead>\n",
       "  <tbody>\n",
       "    <tr>\n",
       "      <th>0</th>\n",
       "      <td>time_index</td>\n",
       "      <td>1.000000</td>\n",
       "      <td>130.0000</td>\n",
       "      <td>6.550000e+01</td>\n",
       "      <td>37.671829</td>\n",
       "    </tr>\n",
       "    <tr>\n",
       "      <th>1</th>\n",
       "      <td>prev_value_1</td>\n",
       "      <td>1.783600</td>\n",
       "      <td>33.1327</td>\n",
       "      <td>1.624110e+01</td>\n",
       "      <td>7.612502</td>\n",
       "    </tr>\n",
       "    <tr>\n",
       "      <th>2</th>\n",
       "      <td>prev_value_2</td>\n",
       "      <td>1.783600</td>\n",
       "      <td>33.1327</td>\n",
       "      <td>1.626698e+01</td>\n",
       "      <td>7.636714</td>\n",
       "    </tr>\n",
       "    <tr>\n",
       "      <th>3</th>\n",
       "      <td>prev_value_3</td>\n",
       "      <td>1.783600</td>\n",
       "      <td>33.1327</td>\n",
       "      <td>1.623029e+01</td>\n",
       "      <td>7.655624</td>\n",
       "    </tr>\n",
       "    <tr>\n",
       "      <th>4</th>\n",
       "      <td>prev_value_4</td>\n",
       "      <td>1.783600</td>\n",
       "      <td>33.1327</td>\n",
       "      <td>1.616853e+01</td>\n",
       "      <td>7.654357</td>\n",
       "    </tr>\n",
       "    <tr>\n",
       "      <th>5</th>\n",
       "      <td>prev_value_5</td>\n",
       "      <td>1.783600</td>\n",
       "      <td>33.1327</td>\n",
       "      <td>1.614919e+01</td>\n",
       "      <td>7.682069</td>\n",
       "    </tr>\n",
       "    <tr>\n",
       "      <th>6</th>\n",
       "      <td>freq_cos_1</td>\n",
       "      <td>-1.000000</td>\n",
       "      <td>1.0000</td>\n",
       "      <td>7.691127e-03</td>\n",
       "      <td>0.709800</td>\n",
       "    </tr>\n",
       "    <tr>\n",
       "      <th>7</th>\n",
       "      <td>freq_cos_2</td>\n",
       "      <td>-1.000000</td>\n",
       "      <td>1.0000</td>\n",
       "      <td>-8.405505e-07</td>\n",
       "      <td>0.709842</td>\n",
       "    </tr>\n",
       "    <tr>\n",
       "      <th>8</th>\n",
       "      <td>freq_cos_3</td>\n",
       "      <td>-1.000000</td>\n",
       "      <td>1.0000</td>\n",
       "      <td>7.691138e-03</td>\n",
       "      <td>0.709800</td>\n",
       "    </tr>\n",
       "    <tr>\n",
       "      <th>9</th>\n",
       "      <td>freq_cos_4</td>\n",
       "      <td>-0.970946</td>\n",
       "      <td>1.0000</td>\n",
       "      <td>-8.281598e-07</td>\n",
       "      <td>0.709842</td>\n",
       "    </tr>\n",
       "    <tr>\n",
       "      <th>10</th>\n",
       "      <td>freq_cos_5</td>\n",
       "      <td>-1.000000</td>\n",
       "      <td>1.0000</td>\n",
       "      <td>7.691161e-03</td>\n",
       "      <td>0.709800</td>\n",
       "    </tr>\n",
       "  </tbody>\n",
       "</table>\n",
       "</div>"
      ],
      "text/plain": [
       "           input       min       max          mean     stddev\n",
       "0     time_index  1.000000  130.0000  6.550000e+01  37.671829\n",
       "1   prev_value_1  1.783600   33.1327  1.624110e+01   7.612502\n",
       "2   prev_value_2  1.783600   33.1327  1.626698e+01   7.636714\n",
       "3   prev_value_3  1.783600   33.1327  1.623029e+01   7.655624\n",
       "4   prev_value_4  1.783600   33.1327  1.616853e+01   7.654357\n",
       "5   prev_value_5  1.783600   33.1327  1.614919e+01   7.682069\n",
       "6     freq_cos_1 -1.000000    1.0000  7.691127e-03   0.709800\n",
       "7     freq_cos_2 -1.000000    1.0000 -8.405505e-07   0.709842\n",
       "8     freq_cos_3 -1.000000    1.0000  7.691138e-03   0.709800\n",
       "9     freq_cos_4 -0.970946    1.0000 -8.281598e-07   0.709842\n",
       "10    freq_cos_5 -1.000000    1.0000  7.691161e-03   0.709800"
      ]
     },
     "execution_count": 451,
     "metadata": {},
     "output_type": "execute_result"
    }
   ],
   "source": [
    "def get_scaling_stats():\n",
    "  \n",
    "  import pandas as pd\n",
    "\n",
    "  scaling_stats_query = \"\"\"\n",
    "    SELECT\n",
    "      input, min, max, mean, stddev\n",
    "    FROM\n",
    "      ml.FEATURE_INFO(MODEL bqml_ts.extended_model) AS model\n",
    "  \"\"\"\n",
    "  scaling_stats = pd.read_gbq(scaling_stats_query,\n",
    "                       project_id=PROJECT,\n",
    "                       dialect='standard',\n",
    "                       private_key=None)\n",
    "  \n",
    "  return scaling_stats\n",
    "\n",
    "get_scaling_stats()"
   ]
  },
  {
   "cell_type": "markdown",
   "metadata": {},
   "source": [
    "### 3. Implement the fourier transformations"
   ]
  },
  {
   "cell_type": "code",
   "execution_count": 440,
   "metadata": {},
   "outputs": [
    {
     "data": {
      "text/plain": [
       "{'freq_cos_1': 0.9927082466769089,\n",
       " 'freq_cos_2': 0.9709393260406853,\n",
       " 'freq_cos_3': 0.9350107052901085,\n",
       " 'freq_cos_4': 0.8854463497046807,\n",
       " 'freq_cos_5': 0.8229690813934987}"
      ]
     },
     "execution_count": 440,
     "metadata": {},
     "output_type": "execute_result"
    }
   ],
   "source": [
    "def compute_fourier(week_number):\n",
    " \n",
    "  import math\n",
    "  \n",
    "  fourier_trans = {}\n",
    "  \n",
    "  fourier_trans['freq_cos_1'] = math.cos(week_number * 2* 3.14159 * 1/52)\n",
    "  fourier_trans['freq_cos_2'] = math.cos(week_number * 2* 3.14159 * 2/52)\n",
    "  fourier_trans['freq_cos_3'] = math.cos(week_number * 2* 3.14159 * 3/52)\n",
    "  fourier_trans['freq_cos_4'] = math.cos(week_number * 2* 3.14159 * 4/52)\n",
    "  fourier_trans['freq_cos_5'] = math.cos(week_number * 2* 3.14159 * 5/52)\n",
    "\n",
    "  return fourier_trans\n",
    "\n",
    "compute_fourier(51)"
   ]
  },
  {
   "cell_type": "markdown",
   "metadata": {},
   "source": [
    "### 4. Implement the estimate method\n",
    "The methods expect:\n",
    "* The time_index for which the forecast is needed. \n",
    "* The 5 previous values (actual or forecasted) to the given time_index\n",
    "* The model weights\n",
    "* The week_number (in the year) of the given time_index, to compute the fourier transformations"
   ]
  },
  {
   "cell_type": "code",
   "execution_count": 521,
   "metadata": {
    "collapsed": true
   },
   "outputs": [],
   "source": [
    "def estimate(model_weights, time_index, week_number, prev_values):\n",
    "\n",
    "  fourier_trans = compute_fourier(week_number)\n",
    "  \n",
    "  inputs = prev_values\n",
    "  inputs['time_index'] = time_index\n",
    "  inputs.update(fourier_trans)\n",
    "  \n",
    "  estimate = 0\n",
    "  \n",
    "  for column_name in model_weights['input'].unique():\n",
    "\n",
    "    weight = model_weights[model_weights['input'] == column_name]['input_weight'].values[0]\n",
    "    \n",
    "    if column_name == '__INTERCEPT__':\n",
    "      input_value = 1.0\n",
    "    else:\n",
    "      meanv = scaling_stats[ scaling_stats['input'] == column_name ]['mean'].values[0]\n",
    "      stddev = scaling_stats[ scaling_stats['input'] == column_name ]['stddev'].values[0]\n",
    "      scaled_input = (inputs[column_name] - meanv)/stddev\n",
    "      input_value = scaled_input\n",
    "\n",
    "    estimate +=  weight * input_value\n",
    "    \n",
    "  return round(estimate, 5)"
   ]
  },
  {
   "cell_type": "markdown",
   "metadata": {},
   "source": [
    "### 5. Get the base inputs \n",
    "This is refering to the last 5 **known values** in the learning data, to be used for forecasting the** uknown value** of the next step."
   ]
  },
  {
   "cell_type": "code",
   "execution_count": 421,
   "metadata": {},
   "outputs": [
    {
     "name": "stdout",
     "output_type": "stream",
     "text": [
      "Requesting query... ok.\n",
      "Job ID: 9bd5b005-fe80-4f7e-8975-04363c7e23a4\n",
      "Query running...\n",
      "Query done.\n",
      "Processed: 6.0 KB Billed: 10.0 MB\n",
      "Standard price: $0.00 USD\n",
      "\n",
      "Retrieving results...\n",
      "Got 1 rows.\n",
      "\n",
      "Total time taken 2.09 s.\n",
      "Finished at 2018-09-21 00:16:01.\n"
     ]
    },
    {
     "data": {
      "text/html": [
       "<div>\n",
       "<style scoped>\n",
       "    .dataframe tbody tr th:only-of-type {\n",
       "        vertical-align: middle;\n",
       "    }\n",
       "\n",
       "    .dataframe tbody tr th {\n",
       "        vertical-align: top;\n",
       "    }\n",
       "\n",
       "    .dataframe thead th {\n",
       "        text-align: right;\n",
       "    }\n",
       "</style>\n",
       "<table border=\"1\" class=\"dataframe\">\n",
       "  <thead>\n",
       "    <tr style=\"text-align: right;\">\n",
       "      <th></th>\n",
       "      <th>prev_value_1</th>\n",
       "      <th>prev_value_2</th>\n",
       "      <th>prev_value_3</th>\n",
       "      <th>prev_value_4</th>\n",
       "      <th>prev_value_5</th>\n",
       "    </tr>\n",
       "  </thead>\n",
       "  <tbody>\n",
       "    <tr>\n",
       "      <th>0</th>\n",
       "      <td>20.9266</td>\n",
       "      <td>24.0118</td>\n",
       "      <td>18.5858</td>\n",
       "      <td>16.7937</td>\n",
       "      <td>23.5463</td>\n",
       "    </tr>\n",
       "  </tbody>\n",
       "</table>\n",
       "</div>"
      ],
      "text/plain": [
       "   prev_value_1  prev_value_2  prev_value_3  prev_value_4  prev_value_5\n",
       "0       20.9266       24.0118       18.5858       16.7937       23.5463"
      ]
     },
     "execution_count": 421,
     "metadata": {},
     "output_type": "execute_result"
    }
   ],
   "source": [
    "def get_base_inputs(base_time_index):\n",
    "\n",
    "  import pandas as pd\n",
    "\n",
    "  base_inputs_query = \"\"\"\n",
    "  SELECT\n",
    "    prev_value_1,\n",
    "    prev_value_2,\n",
    "    prev_value_3,\n",
    "    prev_value_4,\n",
    "    prev_value_5\n",
    "  FROM bqml_ts.learn_data_engineered\n",
    "  WHERE time_index = {} \n",
    "  ;\n",
    "  \"\"\".format(base_time_index)\n",
    "  \n",
    "  base_inputs = pd.read_gbq(base_inputs_query,\n",
    "                       project_id=PROJECT,\n",
    "                       dialect='standard',\n",
    "                       private_key=None)\n",
    "  return base_inputs\n",
    "\n",
    "get_base_inputs(129)"
   ]
  },
  {
   "cell_type": "code",
   "execution_count": 457,
   "metadata": {},
   "outputs": [
    {
     "name": "stdout",
     "output_type": "stream",
     "text": [
      "Requesting query... ok.\n",
      "Job ID: 9ecf6ae5-7ae4-4113-91bb-a006053a4810\n",
      "Query running...\n",
      "Query done.\n",
      "Cache hit.\n",
      "\n",
      "Retrieving results...\n",
      "Got 12 rows.\n",
      "\n",
      "Total time taken 1.32 s.\n",
      "Finished at 2018-09-21 00:51:02.\n",
      "Requesting query... ok.\n",
      "Job ID: a6f7e1db-245f-4413-aada-40039dcf3aa2\n",
      "Query running...\n",
      "Query done.\n",
      "Processed: 6.0 KB Billed: 10.0 MB\n",
      "Standard price: $0.00 USD\n",
      "\n",
      "Retrieving results...\n",
      "Got 1 rows.\n",
      "\n",
      "Total time taken 2.08 s.\n",
      "Finished at 2018-09-21 00:51:05.\n",
      "Requesting query... ok.\n",
      "Job ID: 389cd840-6d0b-4d35-a373-5c044acb08e5\n",
      "Query running...\n",
      "Query done.\n",
      "Cache hit.\n",
      "\n",
      "Retrieving results...\n",
      "Got 11 rows.\n",
      "\n",
      "Total time taken 1.29 s.\n",
      "Finished at 2018-09-21 00:51:07.\n"
     ]
    }
   ],
   "source": [
    "BASE_TIME_INDEX = 130\n",
    "BASE_YEAR = 2015\n",
    "BASE_WEEK_NUMBER = 52\n",
    "BASE_YEAR_WEEK_DESC = '2015-52'\n",
    "  \n",
    "model_weights = get_model_weights()\n",
    "base_inputs = get_base_inputs(BASE_TIME_INDEX)\n",
    "scaling_stats = get_scaling_stats()"
   ]
  },
  {
   "cell_type": "markdown",
   "metadata": {},
   "source": [
    "### 6. Forecast\n",
    "In each step, \n",
    "* The output of the estimate method will be the prev_value1 for the following estimate step. \n",
    "* All the other prev_value(s) will be shifted. That is prev_value4 -> prev_value5, prev_value3 -> prev_value4, etc. "
   ]
  },
  {
   "cell_type": "code",
   "execution_count": 522,
   "metadata": {},
   "outputs": [],
   "source": [
    "def forecast(steps=10):\n",
    "  \n",
    "  print 'model weights:'\n",
    "  print model_weights\n",
    "  print ''\n",
    "  \n",
    "  print 'Forecasting {} steps'.format(steps)\n",
    "  print 'Base time index: {}'.format(BASE_TIME_INDEX)\n",
    "  print ''\n",
    "  \n",
    "  current_prev_values = base_inputs.copy()\n",
    "  \n",
    "  forecasts = pd.DataFrame(columns=['time_index','year_week_desc','forecast_value'])\n",
    "  \n",
    "  current_week_number = BASE_WEEK_NUMBER\n",
    "  current_year = BASE_YEAR\n",
    "  \n",
    "  for step in range(1, steps + 1):\n",
    "    \n",
    "    current_time_index = BASE_TIME_INDEX + step\n",
    "    \n",
    "    if current_week_number == 52:\n",
    "      current_week_number = 0\n",
    "      current_year +=1\n",
    "    \n",
    "    current_week_number +=1\n",
    "\n",
    "    current_value = estimate(model_weights, current_time_index, current_week_number, \n",
    "                             current_prev_values.to_dict(orient='records')[0])\n",
    "\n",
    "    current_year_week_desc = '{}-{}'.format(current_year, current_week_number)\n",
    "    \n",
    "    current_forecast = {\n",
    "      'time_index': current_time_index,\n",
    "      'year_week_desc': current_year_week_desc,\n",
    "      'forecast_value': current_value\n",
    "    }\n",
    "    \n",
    "#     print current_forecast\n",
    "#     print ''\n",
    "    \n",
    "    forecasts = forecasts.append(current_forecast, ignore_index=True)\n",
    "    \n",
    "    # shifting the previous values\n",
    "    for i in range(len(df.columns)-1, 0, -1):\n",
    "      current_prev_values.loc[0][i] = current_prev_values.loc[0][i-1]\n",
    "    \n",
    "    # adding the current forecasting value to be the previous value for the following step\n",
    "    current_prev_values.loc[0][0] = current_value\n",
    "    \n",
    "  print '{} forecasts where produced'.format(len(forecasts))\n",
    "    \n",
    "  return forecasts"
   ]
  },
  {
   "cell_type": "code",
   "execution_count": 481,
   "metadata": {},
   "outputs": [
    {
     "name": "stdout",
     "output_type": "stream",
     "text": [
      "model weights:\n",
      "            input  input_weight\n",
      "0      time_index      0.860312\n",
      "1    prev_value_1      1.443741\n",
      "2    prev_value_2      1.258712\n",
      "3    prev_value_3      0.834876\n",
      "4    prev_value_4      0.859469\n",
      "5    prev_value_5      0.628530\n",
      "6      freq_cos_1     -3.390261\n",
      "7      freq_cos_2     -0.833724\n",
      "8      freq_cos_3      0.259685\n",
      "9      freq_cos_4      0.137074\n",
      "10     freq_cos_5      0.119882\n",
      "11  __INTERCEPT__     14.909911\n",
      "\n",
      "Forecasting 52 steps\n",
      "Base time index: 130\n",
      "\n",
      "52 forecast where produced\n"
     ]
    },
    {
     "data": {
      "text/html": [
       "<div>\n",
       "<style scoped>\n",
       "    .dataframe tbody tr th:only-of-type {\n",
       "        vertical-align: middle;\n",
       "    }\n",
       "\n",
       "    .dataframe tbody tr th {\n",
       "        vertical-align: top;\n",
       "    }\n",
       "\n",
       "    .dataframe thead th {\n",
       "        text-align: right;\n",
       "    }\n",
       "</style>\n",
       "<table border=\"1\" class=\"dataframe\">\n",
       "  <thead>\n",
       "    <tr style=\"text-align: right;\">\n",
       "      <th></th>\n",
       "      <th>time_index</th>\n",
       "      <th>year_week_desc</th>\n",
       "      <th>forecast_value</th>\n",
       "    </tr>\n",
       "  </thead>\n",
       "  <tbody>\n",
       "    <tr>\n",
       "      <th>0</th>\n",
       "      <td>131</td>\n",
       "      <td>2016-1</td>\n",
       "      <td>12.52097</td>\n",
       "    </tr>\n",
       "    <tr>\n",
       "      <th>1</th>\n",
       "      <td>132</td>\n",
       "      <td>2016-2</td>\n",
       "      <td>11.56342</td>\n",
       "    </tr>\n",
       "    <tr>\n",
       "      <th>2</th>\n",
       "      <td>133</td>\n",
       "      <td>2016-3</td>\n",
       "      <td>10.60468</td>\n",
       "    </tr>\n",
       "    <tr>\n",
       "      <th>3</th>\n",
       "      <td>134</td>\n",
       "      <td>2016-4</td>\n",
       "      <td>9.23790</td>\n",
       "    </tr>\n",
       "    <tr>\n",
       "      <th>4</th>\n",
       "      <td>135</td>\n",
       "      <td>2016-5</td>\n",
       "      <td>8.33908</td>\n",
       "    </tr>\n",
       "  </tbody>\n",
       "</table>\n",
       "</div>"
      ],
      "text/plain": [
       "  time_index year_week_desc  forecast_value\n",
       "0        131         2016-1        12.52097\n",
       "1        132         2016-2        11.56342\n",
       "2        133         2016-3        10.60468\n",
       "3        134         2016-4         9.23790\n",
       "4        135         2016-5         8.33908"
      ]
     },
     "execution_count": 481,
     "metadata": {},
     "output_type": "execute_result"
    }
   ],
   "source": [
    "forecasts = forecast(steps=52)\n",
    "forecasts.head(5)"
   ]
  },
  {
   "cell_type": "markdown",
   "metadata": {},
   "source": [
    "### 7. Plot the actual vs. predicted for training, evaluation, test data"
   ]
  },
  {
   "cell_type": "code",
   "execution_count": 527,
   "metadata": {
    "collapsed": true
   },
   "outputs": [],
   "source": [
    "%sql --module query3 \n",
    "\n",
    "SELECT\n",
    "  time_index,\n",
    "  value AS test_value\n",
    "FROM\n",
    "  bqml_ts.trips_data\n",
    "WHERE\n",
    "  time_index > 130\n",
    "ORDER BY\n",
    "  time_index ASC"
   ]
  },
  {
   "cell_type": "code",
   "execution_count": 528,
   "metadata": {},
   "outputs": [
    {
     "data": {
      "text/html": [
       "<div>\n",
       "<style scoped>\n",
       "    .dataframe tbody tr th:only-of-type {\n",
       "        vertical-align: middle;\n",
       "    }\n",
       "\n",
       "    .dataframe tbody tr th {\n",
       "        vertical-align: top;\n",
       "    }\n",
       "\n",
       "    .dataframe thead th {\n",
       "        text-align: right;\n",
       "    }\n",
       "</style>\n",
       "<table border=\"1\" class=\"dataframe\">\n",
       "  <thead>\n",
       "    <tr style=\"text-align: right;\">\n",
       "      <th></th>\n",
       "      <th>time_index</th>\n",
       "      <th>test_value</th>\n",
       "    </tr>\n",
       "  </thead>\n",
       "  <tbody>\n",
       "    <tr>\n",
       "      <th>21</th>\n",
       "      <td>152</td>\n",
       "      <td>30.8270</td>\n",
       "    </tr>\n",
       "    <tr>\n",
       "      <th>22</th>\n",
       "      <td>153</td>\n",
       "      <td>31.5842</td>\n",
       "    </tr>\n",
       "    <tr>\n",
       "      <th>23</th>\n",
       "      <td>154</td>\n",
       "      <td>34.8903</td>\n",
       "    </tr>\n",
       "    <tr>\n",
       "      <th>24</th>\n",
       "      <td>155</td>\n",
       "      <td>35.7222</td>\n",
       "    </tr>\n",
       "    <tr>\n",
       "      <th>25</th>\n",
       "      <td>156</td>\n",
       "      <td>24.9333</td>\n",
       "    </tr>\n",
       "  </tbody>\n",
       "</table>\n",
       "</div>"
      ],
      "text/plain": [
       "    time_index  test_value\n",
       "21         152     30.8270\n",
       "22         153     31.5842\n",
       "23         154     34.8903\n",
       "24         155     35.7222\n",
       "25         156     24.9333"
      ]
     },
     "execution_count": 528,
     "metadata": {},
     "output_type": "execute_result"
    }
   ],
   "source": [
    "test_data = bq.Query(query3).to_dataframe(dialect='standard')\n",
    "test_data.tail(5)"
   ]
  },
  {
   "cell_type": "code",
   "execution_count": 529,
   "metadata": {},
   "outputs": [
    {
     "data": {
      "text/plain": [
       "<matplotlib.legend.Legend at 0x7efef00a53d0>"
      ]
     },
     "execution_count": 529,
     "metadata": {},
     "output_type": "execute_result"
    },
    {
     "data": {
      "image/png": "[encoded data removed]",
      "text/plain": [
       "<matplotlib.figure.Figure at 0x7efef03d9410>"
      ]
     },
     "metadata": {},
     "output_type": "display_data"
    }
   ],
   "source": [
    "plt.close('all')\n",
    "plt.figure(figsize=(15, 5))\n",
    "\n",
    "plt.subplot(1,1,1)\n",
    "plt.title(\"Time Series\")\n",
    "plt.plot(results2.time_index, results2.value)\n",
    "plt.plot(results2.time_index, results2.predicted_value, ':r')\n",
    "plt.plot(forecasts.time_index, forecasts.forecast_value, ':g')\n",
    "plt.plot(test_data.time_index, test_data.test_value, ':y')\n",
    "plt.xlabel(\"Time Index\")\n",
    "plt.ylabel(\"Value (10K)\")\n",
    "plt.legend()"
   ]
  },
  {
   "cell_type": "code",
   "execution_count": 532,
   "metadata": {},
   "outputs": [
    {
     "name": "stdout",
     "output_type": "stream",
     "text": [
      "Root Mean Squared Error: 6.507480816\n"
     ]
    }
   ],
   "source": [
    "squared_error = [math.pow(value, 2) \n",
    "                 for value in test_actual_pred['forecast_value'].values - test_actual_pred['test_value'].values]\n",
    "\n",
    "mean_squared_error = sum(squared_error) / len(squared_error)\n",
    "\n",
    "print 'Root Mean Squared Error: {}'.format(math.sqrt(mean_squared_error))"
   ]
  },
  {
   "cell_type": "markdown",
   "metadata": {},
   "source": [
    "### Result: RMSE for the extended linear regression = 6.51 "
   ]
  },
  {
   "cell_type": "code",
   "execution_count": null,
   "metadata": {},
   "outputs": [],
   "source": []
  }
 ],
 "metadata": {
  "kernelspec": {
   "display_name": "Python 2",
   "language": "python",
   "name": "python2"
  },
  "language_info": {
   "codemirror_mode": {
    "name": "ipython",
    "version": 2
   },
   "file_extension": ".py",
   "mimetype": "text/x-python",
   "name": "python",
   "nbconvert_exporter": "python",
   "pygments_lexer": "ipython2",
   "version": "2.7.10"
  }
 },
 "nbformat": 4,
 "nbformat_minor": 2
}
